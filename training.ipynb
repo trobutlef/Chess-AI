{
 "cells": [
  {
   "cell_type": "code",
   "execution_count": null,
   "id": "e4104460",
   "metadata": {},
   "outputs": [],
   "source": [
    "import chess\n",
    "import random\n",
    "import numpy\n",
    "\n",
    "def create_random_board(max_depth=200):\n",
    "    board = chess.Board()\n",
    "    depth = random.randrange(0, max_depth)\n",
    "    \n",
    "    for i in range(depth):\n",
    "        all_moves = list(board.legal_moves)\n",
    "        random_move = random.choice(all_moves)\n",
    "        board.push(random_move)\n",
    "        if board.is_game_over():\n",
    "            break\n",
    "        \n",
    "    return board\n",
    "board = create_random_board()\n",
    "board"
   ]
  },
  {
   "cell_type": "code",
   "execution_count": null,
   "id": "b676e0a0",
   "metadata": {},
   "outputs": [],
   "source": []
  }
 ],
 "metadata": {
  "kernelspec": {
   "display_name": "Python 3 (ipykernel)",
   "language": "python",
   "name": "python3"
  },
  "language_info": {
   "codemirror_mode": {
    "name": "ipython",
    "version": 3
   },
   "file_extension": ".py",
   "mimetype": "text/x-python",
   "name": "python",
   "nbconvert_exporter": "python",
   "pygments_lexer": "ipython3",
   "version": "3.8.10"
  }
 },
 "nbformat": 4,
 "nbformat_minor": 5
}
